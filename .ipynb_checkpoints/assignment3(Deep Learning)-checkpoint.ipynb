{
 "cells": [
  {
   "cell_type": "code",
   "execution_count": 3,
   "metadata": {},
   "outputs": [
    {
     "name": "stdout",
     "output_type": "stream",
     "text": [
      "AxesImage(54,36;334.8x217.44)\n"
     ]
    },
    {
     "data": {
      "image/png": "[encoded data removed]",
      "text/plain": [
       "<Figure size 432x288 with 1 Axes>"
      ]
     },
     "metadata": {
      "needs_background": "light"
     },
     "output_type": "display_data"
    },
    {
     "data": {
      "text/plain": [
       "(10000, 28, 28)"
      ]
     },
     "execution_count": 3,
     "metadata": {},
     "output_type": "execute_result"
    }
   ],
   "source": [
    "import keras\n",
    "from keras.datasets import mnist\n",
    "from keras.models import Sequential\n",
    "from keras.layers import Dense, Dropout, Flatten, Activation\n",
    "from keras import backend as K\n",
    "import numpy as np\n",
    "import pickle\n",
    "import matplotlib.pyplot as plt\n",
    "fileObjectx = open('trainX.pickle','rb')\n",
    "fileObjecty = open('trainY.pickle','rb')\n",
    "fileObjectX = open('testX.pickle','rb')\n",
    "# load the object from the file into var b\n",
    "trainX= pickle.load(fileObjectx)  \n",
    "print(plt.imshow(trainX[10],cmap=plt.cm.binary))\n",
    "plt.show()\n",
    "trainX.shape\n",
    "trainY= pickle.load(fileObjecty)\n",
    "trainY.shape\n",
    "testX1= pickle.load(fileObjectX)\n",
    "\n",
    "testX1.shape\n"
   ]
  },
  {
   "cell_type": "code",
   "execution_count": 4,
   "metadata": {},
   "outputs": [],
   "source": [
    "from sklearn.model_selection import train_test_split\n",
    "\n",
    "X_train,X_test,y_train,y_test = train_test_split(trainX,trainY,random_state=1)\n"
   ]
  },
  {
   "cell_type": "code",
   "execution_count": 5,
   "metadata": {},
   "outputs": [
    {
     "name": "stdout",
     "output_type": "stream",
     "text": [
      "(15000, 28, 28)\n",
      "(15000,)\n"
     ]
    }
   ],
   "source": [
    "print(X_test.shape)\n",
    "print(y_test.shape)"
   ]
  },
  {
   "cell_type": "code",
   "execution_count": 7,
   "metadata": {},
   "outputs": [],
   "source": [
    "#Parameters for training the model\n",
    "\n",
    "#number of training examples utilized in one iteration\n",
    "batch_size = 128\n",
    "\n",
    "#number of classes of the output\n",
    "num_classes = 10\n",
    "\n",
    "#number to times the model loop through data for training\n",
    "epochs = 100"
   ]
  },
  {
   "cell_type": "code",
   "execution_count": 8,
   "metadata": {},
   "outputs": [
    {
     "name": "stdout",
     "output_type": "stream",
     "text": [
      "X_train shape: (45000, 28, 28)\n",
      "45000 train samples\n",
      "15000 test samples\n"
     ]
    }
   ],
   "source": [
    "X_train = X_train.astype('float32')\n",
    "X_test = X_test.astype('float32')\n",
    "X_train /= 255\n",
    "X_test /= 255\n",
    "print('X_train shape:', X_train.shape)\n",
    "print(X_train.shape[0], 'train samples')\n",
    "print(X_test.shape[0], 'test samples')\n",
    "\n",
    "# convert class vectors to binary class matrices\n",
    "y_train = keras.utils.to_categorical(y_train, num_classes)\n",
    "y_test = keras.utils.to_categorical(y_test, num_classes)"
   ]
  },
  {
   "cell_type": "code",
   "execution_count": 9,
   "metadata": {},
   "outputs": [
    {
     "data": {
      "text/plain": [
       "(15000, 784)"
      ]
     },
     "execution_count": 9,
     "metadata": {},
     "output_type": "execute_result"
    }
   ],
   "source": [
    "X_train = np.reshape(X_train, (45000, 784))\n",
    "X_test = np.reshape(X_test, (15000, 784))\n",
    "\n",
    "#data for which prediction is to be made\n",
    "testX=np.reshape(testX1,(10000,784))\n",
    "\n",
    "X_train.shape\n",
    "X_test.shape"
   ]
  },
  {
   "cell_type": "code",
   "execution_count": 10,
   "metadata": {},
   "outputs": [
    {
     "name": "stderr",
     "output_type": "stream",
     "text": [
      "WARNING: Logging before flag parsing goes to stderr.\n",
      "W0622 15:29:41.199619 10972 deprecation_wrapper.py:119] From E:\\anaconda\\envs\\assignment3\\lib\\site-packages\\keras\\backend\\tensorflow_backend.py:74: The name tf.get_default_graph is deprecated. Please use tf.compat.v1.get_default_graph instead.\n",
      "\n",
      "W0622 15:29:41.216573 10972 deprecation_wrapper.py:119] From E:\\anaconda\\envs\\assignment3\\lib\\site-packages\\keras\\backend\\tensorflow_backend.py:517: The name tf.placeholder is deprecated. Please use tf.compat.v1.placeholder instead.\n",
      "\n",
      "W0622 15:29:41.219563 10972 deprecation_wrapper.py:119] From E:\\anaconda\\envs\\assignment3\\lib\\site-packages\\keras\\backend\\tensorflow_backend.py:4138: The name tf.random_uniform is deprecated. Please use tf.random.uniform instead.\n",
      "\n",
      "W0622 15:29:41.239514 10972 deprecation_wrapper.py:119] From E:\\anaconda\\envs\\assignment3\\lib\\site-packages\\keras\\backend\\tensorflow_backend.py:133: The name tf.placeholder_with_default is deprecated. Please use tf.compat.v1.placeholder_with_default instead.\n",
      "\n",
      "W0622 15:29:41.248489 10972 deprecation.py:506] From E:\\anaconda\\envs\\assignment3\\lib\\site-packages\\keras\\backend\\tensorflow_backend.py:3445: calling dropout (from tensorflow.python.ops.nn_ops) with keep_prob is deprecated and will be removed in a future version.\n",
      "Instructions for updating:\n",
      "Please use `rate` instead of `keep_prob`. Rate should be set to `rate = 1 - keep_prob`.\n",
      "W0622 15:29:41.353206 10972 deprecation_wrapper.py:119] From E:\\anaconda\\envs\\assignment3\\lib\\site-packages\\keras\\optimizers.py:790: The name tf.train.Optimizer is deprecated. Please use tf.compat.v1.train.Optimizer instead.\n",
      "\n",
      "W0622 15:29:41.425218 10972 deprecation_wrapper.py:119] From E:\\anaconda\\envs\\assignment3\\lib\\site-packages\\keras\\backend\\tensorflow_backend.py:3295: The name tf.log is deprecated. Please use tf.math.log instead.\n",
      "\n"
     ]
    },
    {
     "name": "stdout",
     "output_type": "stream",
     "text": [
      "_________________________________________________________________\n",
      "Layer (type)                 Output Shape              Param #   \n",
      "=================================================================\n",
      "dense_1 (Dense)              (None, 500)               392500    \n",
      "_________________________________________________________________\n",
      "activation_1 (Activation)    (None, 500)               0         \n",
      "_________________________________________________________________\n",
      "dropout_1 (Dropout)          (None, 500)               0         \n",
      "_________________________________________________________________\n",
      "dense_2 (Dense)              (None, 300)               150300    \n",
      "_________________________________________________________________\n",
      "activation_2 (Activation)    (None, 300)               0         \n",
      "_________________________________________________________________\n",
      "dropout_2 (Dropout)          (None, 300)               0         \n",
      "_________________________________________________________________\n",
      "dense_3 (Dense)              (None, 10)                3010      \n",
      "_________________________________________________________________\n",
      "activation_3 (Activation)    (None, 10)                0         \n",
      "=================================================================\n",
      "Total params: 545,810\n",
      "Trainable params: 545,810\n",
      "Non-trainable params: 0\n",
      "_________________________________________________________________\n"
     ]
    }
   ],
   "source": [
    "model = Sequential()\n",
    "model.add(Dense(500, input_dim=784), )\n",
    "model.add(Activation('relu'))\n",
    "#Using Dropout to stop overfitting\n",
    "model.add(Dropout(0.4))\n",
    "model.add(Dense(300))\n",
    "model.add(Activation('relu'))\n",
    "model.add(Dropout(0.4))\n",
    "model.add(Dense(10))\n",
    "model.add(Activation('softmax'))\n",
    "model.summary()\n",
    "\n",
    "#Adadelta continues learning even when many updates have been done\n",
    "model.compile(loss=keras.losses.categorical_crossentropy,\n",
    "              optimizer=keras.optimizers.Adadelta(),\n",
    "              metrics=['accuracy'])"
   ]
  },
  {
   "cell_type": "code",
   "execution_count": 11,
   "metadata": {},
   "outputs": [
    {
     "name": "stderr",
     "output_type": "stream",
     "text": [
      "W0622 15:29:45.557660 10972 deprecation.py:323] From E:\\anaconda\\envs\\assignment3\\lib\\site-packages\\tensorflow\\python\\ops\\math_grad.py:1250: add_dispatch_support.<locals>.wrapper (from tensorflow.python.ops.array_ops) is deprecated and will be removed in a future version.\n",
      "Instructions for updating:\n",
      "Use tf.where in 2.0, which has the same broadcast rule as np.where\n"
     ]
    },
    {
     "name": "stdout",
     "output_type": "stream",
     "text": [
      "Train on 45000 samples, validate on 15000 samples\n",
      "Epoch 1/100\n",
      "45000/45000 [==============================] - 16s 347us/step - loss: 0.6805 - acc: 0.7573 - val_loss: 0.4853 - val_acc: 0.8063\n",
      "Epoch 2/100\n",
      "45000/45000 [==============================] - 12s 277us/step - loss: 0.4724 - acc: 0.8280 - val_loss: 0.4274 - val_acc: 0.8344\n",
      "Epoch 3/100\n",
      "45000/45000 [==============================] - 13s 280us/step - loss: 0.4273 - acc: 0.8431 - val_loss: 0.3730 - val_acc: 0.8678\n",
      "Epoch 4/100\n",
      "45000/45000 [==============================] - 13s 293us/step - loss: 0.3972 - acc: 0.8534 - val_loss: 0.3799 - val_acc: 0.8627\n",
      "Epoch 5/100\n",
      "45000/45000 [==============================] - 13s 287us/step - loss: 0.3785 - acc: 0.8602 - val_loss: 0.3638 - val_acc: 0.8661\n",
      "Epoch 6/100\n",
      "45000/45000 [==============================] - 13s 290us/step - loss: 0.3614 - acc: 0.8674 - val_loss: 0.3645 - val_acc: 0.8676\n",
      "Epoch 7/100\n",
      "45000/45000 [==============================] - 13s 286us/step - loss: 0.3535 - acc: 0.8699 - val_loss: 0.3491 - val_acc: 0.8691\n",
      "Epoch 8/100\n",
      "45000/45000 [==============================] - 20s 442us/step - loss: 0.3409 - acc: 0.8760 - val_loss: 0.3563 - val_acc: 0.8719\n",
      "Epoch 9/100\n",
      "45000/45000 [==============================] - 15s 322us/step - loss: 0.3338 - acc: 0.8770 - val_loss: 0.3252 - val_acc: 0.8817\n",
      "Epoch 10/100\n",
      "45000/45000 [==============================] - 17s 380us/step - loss: 0.3231 - acc: 0.8807 - val_loss: 0.3393 - val_acc: 0.8755\n",
      "Epoch 11/100\n",
      "45000/45000 [==============================] - 19s 413us/step - loss: 0.3197 - acc: 0.8836 - val_loss: 0.3160 - val_acc: 0.8850\n",
      "Epoch 12/100\n",
      "45000/45000 [==============================] - 13s 289us/step - loss: 0.3152 - acc: 0.8843 - val_loss: 0.3277 - val_acc: 0.8816\n",
      "Epoch 13/100\n",
      "45000/45000 [==============================] - 13s 284us/step - loss: 0.3080 - acc: 0.8860 - val_loss: 0.3118 - val_acc: 0.8877\n",
      "Epoch 14/100\n",
      "45000/45000 [==============================] - 12s 258us/step - loss: 0.2976 - acc: 0.8892 - val_loss: 0.3295 - val_acc: 0.8809\n",
      "Epoch 15/100\n",
      "45000/45000 [==============================] - 9s 199us/step - loss: 0.2961 - acc: 0.8908 - val_loss: 0.3448 - val_acc: 0.8707\n",
      "Epoch 16/100\n",
      "45000/45000 [==============================] - 9s 210us/step - loss: 0.2922 - acc: 0.8912 - val_loss: 0.3111 - val_acc: 0.8899\n",
      "Epoch 17/100\n",
      "45000/45000 [==============================] - 9s 196us/step - loss: 0.2886 - acc: 0.8932 - val_loss: 0.3094 - val_acc: 0.8899\n",
      "Epoch 18/100\n",
      "45000/45000 [==============================] - 9s 199us/step - loss: 0.2792 - acc: 0.8974 - val_loss: 0.3311 - val_acc: 0.8859\n",
      "Epoch 19/100\n",
      "45000/45000 [==============================] - 9s 207us/step - loss: 0.2786 - acc: 0.8966 - val_loss: 0.3046 - val_acc: 0.8919\n",
      "Epoch 20/100\n",
      "45000/45000 [==============================] - 9s 202us/step - loss: 0.2736 - acc: 0.8983 - val_loss: 0.3128 - val_acc: 0.8898\n",
      "Epoch 21/100\n",
      "45000/45000 [==============================] - 9s 193us/step - loss: 0.2688 - acc: 0.9004 - val_loss: 0.3091 - val_acc: 0.8931\n",
      "Epoch 22/100\n",
      "45000/45000 [==============================] - 9s 194us/step - loss: 0.2660 - acc: 0.9012 - val_loss: 0.3164 - val_acc: 0.8864\n",
      "Epoch 23/100\n",
      "45000/45000 [==============================] - 9s 203us/step - loss: 0.2625 - acc: 0.9014 - val_loss: 0.3045 - val_acc: 0.8937\n",
      "Epoch 24/100\n",
      "45000/45000 [==============================] - 9s 196us/step - loss: 0.2606 - acc: 0.9013 - val_loss: 0.3103 - val_acc: 0.8929\n",
      "Epoch 25/100\n",
      "45000/45000 [==============================] - 10s 218us/step - loss: 0.2556 - acc: 0.9050 - val_loss: 0.3123 - val_acc: 0.8911\n",
      "Epoch 26/100\n",
      "45000/45000 [==============================] - 9s 205us/step - loss: 0.2507 - acc: 0.9066 - val_loss: 0.3185 - val_acc: 0.8909\n",
      "Epoch 27/100\n",
      "45000/45000 [==============================] - 9s 195us/step - loss: 0.2515 - acc: 0.9063 - val_loss: 0.3056 - val_acc: 0.8932\n",
      "Epoch 28/100\n",
      "45000/45000 [==============================] - 9s 198us/step - loss: 0.2449 - acc: 0.9091 - val_loss: 0.3029 - val_acc: 0.8948\n",
      "Epoch 29/100\n",
      "45000/45000 [==============================] - 10s 218us/step - loss: 0.2439 - acc: 0.9083 - val_loss: 0.3105 - val_acc: 0.8967\n",
      "Epoch 30/100\n",
      "45000/45000 [==============================] - 10s 211us/step - loss: 0.2412 - acc: 0.9098 - val_loss: 0.3261 - val_acc: 0.8913\n",
      "Epoch 31/100\n",
      "45000/45000 [==============================] - 9s 197us/step - loss: 0.2376 - acc: 0.9117 - val_loss: 0.3100 - val_acc: 0.8951\n",
      "Epoch 32/100\n",
      "45000/45000 [==============================] - 9s 202us/step - loss: 0.2327 - acc: 0.9128 - val_loss: 0.3384 - val_acc: 0.8872\n",
      "Epoch 33/100\n",
      "45000/45000 [==============================] - 9s 196us/step - loss: 0.2323 - acc: 0.9126 - val_loss: 0.3030 - val_acc: 0.8972\n",
      "Test loss: 0.30302793782552084\n",
      "Test accuracy: 0.8971999999682109\n"
     ]
    }
   ],
   "source": [
    "#set early stopping monitor so the model stops training when it won't improve anymore\n",
    "from keras.callbacks import EarlyStopping\n",
    "early_stopping_monitor = EarlyStopping(patience=5)\n",
    "\n",
    "#Train model\n",
    "model.fit(X_train, y_train,\n",
    "          batch_size=batch_size,\n",
    "          epochs=epochs,\n",
    "          verbose=1,\n",
    "          validation_data=(X_test, y_test),callbacks=[early_stopping_monitor])\n",
    "\n",
    "#loss and accuracy returnedfrom evaluate function\n",
    "loss,accuracy = model.evaluate(X_test, y_test, verbose=0)\n",
    "print('Test loss:', loss)\n",
    "print('Test accuracy:', accuracy)"
   ]
  },
  {
   "cell_type": "code",
   "execution_count": 12,
   "metadata": {},
   "outputs": [
    {
     "name": "stdout",
     "output_type": "stream",
     "text": [
      "[[0. 0. 0. ... 0. 0. 1.]\n",
      " [0. 0. 1. ... 0. 0. 0.]\n",
      " [0. 1. 0. ... 0. 0. 0.]\n",
      " ...\n",
      " [0. 0. 0. ... 0. 1. 0.]\n",
      " [0. 1. 0. ... 0. 0. 0.]\n",
      " [0. 0. 0. ... 0. 0. 0.]]\n"
     ]
    }
   ],
   "source": [
    "#Saving the model \n",
    "model.save('apparels_image_reader.model')\n",
    "new_model=keras.models.load_model('apparels_image_reader.model')\n",
    "prediction=new_model.predict(testX)\n",
    "print(prediction)\n"
   ]
  },
  {
   "cell_type": "code",
   "execution_count": 15,
   "metadata": {},
   "outputs": [],
   "source": [
    "#Storing the predictions in a pickle file named result.\n",
    "filename = 'result.pickle'\n",
    "outfile = open(filename,'wb')\n",
    "pickle.dump(prediction,outfile)\n",
    "outfile.close()\n",
    "\n"
   ]
  },
  {
   "cell_type": "code",
   "execution_count": null,
   "metadata": {},
   "outputs": [],
   "source": []
  },
  {
   "cell_type": "code",
   "execution_count": null,
   "metadata": {},
   "outputs": [],
   "source": []
  },
  {
   "cell_type": "code",
   "execution_count": null,
   "metadata": {},
   "outputs": [],
   "source": []
  }
 ],
 "metadata": {
  "kernelspec": {
   "display_name": "Python 3",
   "language": "python",
   "name": "python3"
  },
  "language_info": {
   "codemirror_mode": {
    "name": "ipython",
    "version": 3
   },
   "file_extension": ".py",
   "mimetype": "text/x-python",
   "name": "python",
   "nbconvert_exporter": "python",
   "pygments_lexer": "ipython3",
   "version": "3.6.8"
  }
 },
 "nbformat": 4,
 "nbformat_minor": 2
}

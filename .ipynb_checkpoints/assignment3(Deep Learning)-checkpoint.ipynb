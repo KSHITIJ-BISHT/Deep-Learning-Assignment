{
 "cells": [
  {
   "cell_type": "code",
   "execution_count": 17,
   "metadata": {},
   "outputs": [
    {
     "name": "stdout",
     "output_type": "stream",
     "text": [
      "AxesImage(54,36;334.8x217.44)\n"
     ]
    },
    {
     "data": {
      "image/png": "[encoded data removed]",
      "text/plain": [
       "<Figure size 432x288 with 1 Axes>"
      ]
     },
     "metadata": {
      "needs_background": "light"
     },
     "output_type": "display_data"
    },
    {
     "data": {
      "text/plain": [
       "(10000, 28, 28)"
      ]
     },
     "execution_count": 17,
     "metadata": {},
     "output_type": "execute_result"
    }
   ],
   "source": [
    "#Deep learning model for identifying images in Fashion MNIST data\n",
    "#There are 10 categories of items,each assigned a value 0-9\n",
    "import keras\n",
    "from keras.datasets import mnist\n",
    "from keras.models import Sequential\n",
    "from keras.layers import Dense, Dropout, Flatten, Activation\n",
    "from keras import backend as K\n",
    "import numpy as np\n",
    "import pickle\n",
    "import matplotlib.pyplot as plt\n",
    "#Opening files for reading the data\n",
    "fileObjectx = open('trainX.pickle','rb')\n",
    "fileObjecty = open('trainY.pickle','rb')\n",
    "fileObjectX = open('testX.pickle','rb')\n",
    "\n",
    "# load the object from the files\n",
    "trainX= pickle.load(fileObjectx)  \n",
    "print(plt.imshow(trainX[0],cmap=plt.cm.binary))\n",
    "plt.show()\n",
    "trainX.shape\n",
    "trainY= pickle.load(fileObjecty)\n",
    "trainY.shape\n",
    "testX_retrive= pickle.load(fileObjectX)\n",
    "\n",
    "testX_retrive.shape\n"
   ]
  },
  {
   "cell_type": "code",
   "execution_count": 2,
   "metadata": {},
   "outputs": [],
   "source": [
    "#Splitting the data into training data and testing data\n",
    "\n",
    "from sklearn.model_selection import train_test_split\n",
    "\n",
    "X_train,X_test,y_train,y_test = train_test_split(trainX,trainY,random_state=1)\n"
   ]
  },
  {
   "cell_type": "code",
   "execution_count": 7,
   "metadata": {},
   "outputs": [
    {
     "name": "stdout",
     "output_type": "stream",
     "text": [
      "(15000, 28, 28)\n",
      "(15000,)\n"
     ]
    }
   ],
   "source": [
    "print(X_test.shape)\n",
    "print(y_test.shape)"
   ]
  },
  {
   "cell_type": "code",
   "execution_count": 8,
   "metadata": {},
   "outputs": [],
   "source": [
    "#Parameters for training the model\n",
    "\n",
    "#number of training examples utilized in one iteration\n",
    "batch_size = 512\n",
    "\n",
    "#number of classes of the output\n",
    "num_classes = 10\n",
    "\n",
    "#number of times the model loop through data for training\n",
    "epochs = 100"
   ]
  },
  {
   "cell_type": "code",
   "execution_count": 9,
   "metadata": {},
   "outputs": [
    {
     "name": "stdout",
     "output_type": "stream",
     "text": [
      "X_train shape: (45000, 28, 28)\n",
      "45000 train samples\n",
      "15000 test samples\n"
     ]
    }
   ],
   "source": [
    "X_train = X_train.astype('float32')\n",
    "X_test = X_test.astype('float32')\n",
    "X_train /= 255\n",
    "X_test /= 255\n",
    "print('X_train shape:', X_train.shape)\n",
    "print(X_train.shape[0], 'train samples')\n",
    "print(X_test.shape[0], 'test samples')\n",
    "\n",
    "# convert class vectors to binary class matrices\n",
    "y_train = keras.utils.to_categorical(y_train, num_classes)\n",
    "y_test = keras.utils.to_categorical(y_test, num_classes)"
   ]
  },
  {
   "cell_type": "code",
   "execution_count": 10,
   "metadata": {},
   "outputs": [
    {
     "data": {
      "text/plain": [
       "(45000, 784)"
      ]
     },
     "execution_count": 10,
     "metadata": {},
     "output_type": "execute_result"
    }
   ],
   "source": [
    "X_train = np.reshape(X_train, (45000, 784))\n",
    "X_test = np.reshape(X_test, (15000, 784))\n",
    "\n",
    "#data for which prediction is to be made\n",
    "testX=np.reshape(testX_retrive,(10000,784))\n",
    "\n",
    "X_train.shape"
   ]
  },
  {
   "cell_type": "code",
   "execution_count": 11,
   "metadata": {},
   "outputs": [
    {
     "name": "stderr",
     "output_type": "stream",
     "text": [
      "WARNING: Logging before flag parsing goes to stderr.\n",
      "W0623 18:05:07.933402  2392 deprecation_wrapper.py:119] From E:\\anaconda\\envs\\assignment3\\lib\\site-packages\\keras\\backend\\tensorflow_backend.py:74: The name tf.get_default_graph is deprecated. Please use tf.compat.v1.get_default_graph instead.\n",
      "\n",
      "W0623 18:05:07.954346  2392 deprecation_wrapper.py:119] From E:\\anaconda\\envs\\assignment3\\lib\\site-packages\\keras\\backend\\tensorflow_backend.py:517: The name tf.placeholder is deprecated. Please use tf.compat.v1.placeholder instead.\n",
      "\n",
      "W0623 18:05:07.957338  2392 deprecation_wrapper.py:119] From E:\\anaconda\\envs\\assignment3\\lib\\site-packages\\keras\\backend\\tensorflow_backend.py:4138: The name tf.random_uniform is deprecated. Please use tf.random.uniform instead.\n",
      "\n",
      "W0623 18:05:07.974293  2392 deprecation_wrapper.py:119] From E:\\anaconda\\envs\\assignment3\\lib\\site-packages\\keras\\backend\\tensorflow_backend.py:133: The name tf.placeholder_with_default is deprecated. Please use tf.compat.v1.placeholder_with_default instead.\n",
      "\n",
      "W0623 18:05:07.983269  2392 deprecation.py:506] From E:\\anaconda\\envs\\assignment3\\lib\\site-packages\\keras\\backend\\tensorflow_backend.py:3445: calling dropout (from tensorflow.python.ops.nn_ops) with keep_prob is deprecated and will be removed in a future version.\n",
      "Instructions for updating:\n",
      "Please use `rate` instead of `keep_prob`. Rate should be set to `rate = 1 - keep_prob`.\n",
      "W0623 18:05:08.119951  2392 deprecation_wrapper.py:119] From E:\\anaconda\\envs\\assignment3\\lib\\site-packages\\keras\\optimizers.py:790: The name tf.train.Optimizer is deprecated. Please use tf.compat.v1.train.Optimizer instead.\n",
      "\n",
      "W0623 18:05:08.202689  2392 deprecation_wrapper.py:119] From E:\\anaconda\\envs\\assignment3\\lib\\site-packages\\keras\\backend\\tensorflow_backend.py:3295: The name tf.log is deprecated. Please use tf.math.log instead.\n",
      "\n"
     ]
    },
    {
     "name": "stdout",
     "output_type": "stream",
     "text": [
      "_________________________________________________________________\n",
      "Layer (type)                 Output Shape              Param #   \n",
      "=================================================================\n",
      "dense_1 (Dense)              (None, 500)               392500    \n",
      "_________________________________________________________________\n",
      "activation_1 (Activation)    (None, 500)               0         \n",
      "_________________________________________________________________\n",
      "dropout_1 (Dropout)          (None, 500)               0         \n",
      "_________________________________________________________________\n",
      "dense_2 (Dense)              (None, 300)               150300    \n",
      "_________________________________________________________________\n",
      "activation_2 (Activation)    (None, 300)               0         \n",
      "_________________________________________________________________\n",
      "dropout_2 (Dropout)          (None, 300)               0         \n",
      "_________________________________________________________________\n",
      "dense_3 (Dense)              (None, 10)                3010      \n",
      "_________________________________________________________________\n",
      "activation_3 (Activation)    (None, 10)                0         \n",
      "=================================================================\n",
      "Total params: 545,810\n",
      "Trainable params: 545,810\n",
      "Non-trainable params: 0\n",
      "_________________________________________________________________\n"
     ]
    }
   ],
   "source": [
    "#Using Sequential model\n",
    "model = Sequential()\n",
    "model.add(Dense(500, input_dim=784), )\n",
    "# Activation function-Rectified Linear Unit,returns 0 if it founds a negative value and the value x for positive value \n",
    "model.add(Activation('relu'))\n",
    "\n",
    "#Using Dropout to stop overfitting\n",
    "model.add(Dropout(0.4))\n",
    "model.add(Dense(300))\n",
    "model.add(Activation('relu'))\n",
    "\n",
    "#Using Dropout to stop overfitting\n",
    "model.add(Dropout(0.4))\n",
    "model.add(Dense(10))\n",
    "model.add(Activation('softmax'))\n",
    "model.summary()\n",
    "\n",
    "#Adadelta optimizer continues learning even when many updates have been done\n",
    "model.compile(loss=keras.losses.categorical_crossentropy,\n",
    "              optimizer=keras.optimizers.Adadelta(),\n",
    "              metrics=['accuracy'])"
   ]
  },
  {
   "cell_type": "code",
   "execution_count": 12,
   "metadata": {},
   "outputs": [
    {
     "name": "stderr",
     "output_type": "stream",
     "text": [
      "W0623 18:05:13.381488  2392 deprecation.py:323] From E:\\anaconda\\envs\\assignment3\\lib\\site-packages\\tensorflow\\python\\ops\\math_grad.py:1250: add_dispatch_support.<locals>.wrapper (from tensorflow.python.ops.array_ops) is deprecated and will be removed in a future version.\n",
      "Instructions for updating:\n",
      "Use tf.where in 2.0, which has the same broadcast rule as np.where\n"
     ]
    },
    {
     "name": "stdout",
     "output_type": "stream",
     "text": [
      "Train on 45000 samples, validate on 15000 samples\n",
      "Epoch 1/100\n",
      "45000/45000 [==============================] - 6s 123us/step - loss: 0.8737 - acc: 0.6894 - val_loss: 0.5630 - val_acc: 0.7928\n",
      "Epoch 2/100\n",
      "45000/45000 [==============================] - 5s 111us/step - loss: 0.5606 - acc: 0.7978 - val_loss: 0.4676 - val_acc: 0.8286\n",
      "Epoch 3/100\n",
      "45000/45000 [==============================] - 5s 109us/step - loss: 0.4931 - acc: 0.8214 - val_loss: 0.4150 - val_acc: 0.8473\n",
      "Epoch 4/100\n",
      "45000/45000 [==============================] - 5s 117us/step - loss: 0.4461 - acc: 0.8379 - val_loss: 0.3793 - val_acc: 0.8633\n",
      "Epoch 5/100\n",
      "45000/45000 [==============================] - 5s 110us/step - loss: 0.4283 - acc: 0.8426 - val_loss: 0.3773 - val_acc: 0.8599\n",
      "Epoch 6/100\n",
      "45000/45000 [==============================] - 5s 104us/step - loss: 0.4007 - acc: 0.8540 - val_loss: 0.3699 - val_acc: 0.8653\n",
      "Epoch 7/100\n",
      "45000/45000 [==============================] - 5s 109us/step - loss: 0.3896 - acc: 0.8552 - val_loss: 0.3663 - val_acc: 0.8654\n",
      "Epoch 8/100\n",
      "45000/45000 [==============================] - 5s 112us/step - loss: 0.3747 - acc: 0.8620 - val_loss: 0.3565 - val_acc: 0.8673\n",
      "Epoch 9/100\n",
      "45000/45000 [==============================] - 5s 113us/step - loss: 0.3663 - acc: 0.8645 - val_loss: 0.3388 - val_acc: 0.8760\n",
      "Epoch 10/100\n",
      "45000/45000 [==============================] - 5s 112us/step - loss: 0.3554 - acc: 0.8708 - val_loss: 0.3435 - val_acc: 0.8744\n",
      "Epoch 11/100\n",
      "45000/45000 [==============================] - 5s 106us/step - loss: 0.3416 - acc: 0.8750 - val_loss: 0.3304 - val_acc: 0.8799\n",
      "Epoch 12/100\n",
      "45000/45000 [==============================] - 5s 100us/step - loss: 0.3383 - acc: 0.8764 - val_loss: 0.3323 - val_acc: 0.8758\n",
      "Epoch 13/100\n",
      "45000/45000 [==============================] - 4s 100us/step - loss: 0.3326 - acc: 0.8768 - val_loss: 0.3263 - val_acc: 0.8785\n",
      "Epoch 14/100\n",
      "45000/45000 [==============================] - 5s 104us/step - loss: 0.3239 - acc: 0.8795 - val_loss: 0.3530 - val_acc: 0.8671\n",
      "Epoch 15/100\n",
      "45000/45000 [==============================] - 5s 116us/step - loss: 0.3220 - acc: 0.8801 - val_loss: 0.3095 - val_acc: 0.8878\n",
      "Epoch 16/100\n",
      "45000/45000 [==============================] - 5s 117us/step - loss: 0.3122 - acc: 0.8840 - val_loss: 0.3317 - val_acc: 0.8771\n",
      "Epoch 17/100\n",
      "45000/45000 [==============================] - 6s 128us/step - loss: 0.3070 - acc: 0.8861 - val_loss: 0.3103 - val_acc: 0.8855\n",
      "Epoch 18/100\n",
      "45000/45000 [==============================] - 6s 127us/step - loss: 0.3011 - acc: 0.8878 - val_loss: 0.3468 - val_acc: 0.8704\n",
      "Epoch 19/100\n",
      "45000/45000 [==============================] - 6s 128us/step - loss: 0.2988 - acc: 0.8871 - val_loss: 0.2994 - val_acc: 0.8899\n",
      "Epoch 20/100\n",
      "45000/45000 [==============================] - 6s 128us/step - loss: 0.2922 - acc: 0.8913 - val_loss: 0.2968 - val_acc: 0.8893\n",
      "Epoch 21/100\n",
      "45000/45000 [==============================] - 6s 131us/step - loss: 0.2860 - acc: 0.8929 - val_loss: 0.2988 - val_acc: 0.8906\n",
      "Epoch 22/100\n",
      "45000/45000 [==============================] - 6s 133us/step - loss: 0.2790 - acc: 0.8956 - val_loss: 0.3087 - val_acc: 0.8879\n",
      "Epoch 23/100\n",
      "45000/45000 [==============================] - 6s 131us/step - loss: 0.2784 - acc: 0.8957 - val_loss: 0.3131 - val_acc: 0.8883\n",
      "Epoch 24/100\n",
      "45000/45000 [==============================] - 6s 126us/step - loss: 0.2755 - acc: 0.8967 - val_loss: 0.3266 - val_acc: 0.8837\n",
      "Epoch 25/100\n",
      "45000/45000 [==============================] - 8s 176us/step - loss: 0.2700 - acc: 0.8967 - val_loss: 0.3072 - val_acc: 0.8872\n",
      "Test loss: 0.30721753805478413\n",
      "Test accuracy: 88.71999999682109 %\n"
     ]
    }
   ],
   "source": [
    "#set early stopping monitor so the model stops training when it won't improve anymore\n",
    "from keras.callbacks import EarlyStopping\n",
    "early_stopping_monitor = EarlyStopping(patience=5)\n",
    "\n",
    "#Train model\n",
    "hist=model.fit(X_train, y_train,\n",
    "          batch_size=batch_size,\n",
    "          epochs=epochs,\n",
    "          verbose=1,\n",
    "          validation_data=(X_test, y_test),callbacks=[early_stopping_monitor])\n",
    "\n",
    "#loss and accuracy returnedfrom evaluate function\n",
    "loss,accuracy = model.evaluate(X_test, y_test, verbose=0)\n",
    "print('Test loss:', loss)\n",
    "print('Test accuracy:', accuracy*100,'%')"
   ]
  },
  {
   "cell_type": "code",
   "execution_count": 20,
   "metadata": {},
   "outputs": [
    {
     "data": {
      "image/png": "[encoded data removed]",
      "text/plain": [
       "<Figure size 432x288 with 1 Axes>"
      ]
     },
     "metadata": {
      "needs_background": "light"
     },
     "output_type": "display_data"
    },
    {
     "name": "stdout",
     "output_type": "stream",
     "text": [
      "3\n",
      "[[0. 0. 0. ... 0. 0. 1.]\n",
      " [0. 0. 1. ... 0. 0. 0.]\n",
      " [0. 1. 0. ... 0. 0. 0.]\n",
      " ...\n",
      " [0. 0. 0. ... 0. 1. 0.]\n",
      " [0. 1. 0. ... 0. 0. 0.]\n",
      " [0. 0. 0. ... 0. 0. 0.]]\n"
     ]
    }
   ],
   "source": [
    "#Plotting the loss ,acc,val_loss and val_acc\n",
    "plt.figure(0)\n",
    "plt.plot(hist.history['loss'],'g')\n",
    "plt.plot(hist.history['val_loss'],'b')\n",
    "plt.plot(hist.history['acc'],'r')\n",
    "plt.plot(hist.history['val_acc'],'black')\n",
    "\n",
    "plt.show()\n",
    "\n",
    "\n",
    "#Predicting for the test data\n",
    "pred=model.predict(X_test)\n",
    "test_result=np.argmax(pred[0])\n",
    "print(test_result)\n",
    "\n",
    "#Saving the model \n",
    "model.save('apparels_image_reader.model')\n",
    "\n",
    "#loading the saved model for prediction \n",
    "new_model=keras.models.load_model('apparels_image_reader.model')\n",
    "\n",
    "#Prediction on the new data\n",
    "prediction=new_model.predict(testX)\n",
    "#print(prediction)\n"
   ]
  },
  {
   "cell_type": "code",
   "execution_count": 16,
   "metadata": {},
   "outputs": [],
   "source": [
    "#Storing the predictions in a pickle file named result.\n",
    "filename = 'result.pickle'\n",
    "outfile = open(filename,'wb')\n",
    "pickle.dump(prediction,outfile)\n",
    "outfile.close()\n",
    "\n"
   ]
  },
  {
   "cell_type": "code",
   "execution_count": null,
   "metadata": {},
   "outputs": [],
   "source": []
  },
  {
   "cell_type": "code",
   "execution_count": null,
   "metadata": {},
   "outputs": [],
   "source": []
  },
  {
   "cell_type": "code",
   "execution_count": null,
   "metadata": {},
   "outputs": [],
   "source": []
  }
 ],
 "metadata": {
  "kernelspec": {
   "display_name": "Python 3",
   "language": "python",
   "name": "python3"
  },
  "language_info": {
   "codemirror_mode": {
    "name": "ipython",
    "version": 3
   },
   "file_extension": ".py",
   "mimetype": "text/x-python",
   "name": "python",
   "nbconvert_exporter": "python",
   "pygments_lexer": "ipython3",
   "version": "3.6.8"
  }
 },
 "nbformat": 4,
 "nbformat_minor": 2
}

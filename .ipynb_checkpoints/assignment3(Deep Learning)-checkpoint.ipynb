{
 "cells": [
  {
   "cell_type": "code",
   "execution_count": null,
   "metadata": {},
   "outputs": [],
   "source": [
    "# Deep learning model for identifying images in Fashion MNIST data\n",
    "#There are 10 categories of items,each assigned a value 0-9\n",
    "import keras\n",
    "from keras.datasets import mnist\n",
    "from keras.models import Sequential\n",
    "from keras.layers import Dense, Dropout, Flatten, Activation\n",
    "from keras import backend as K\n",
    "import numpy as np\n",
    "import pickle\n",
    "import matplotlib.pyplot as plt\n",
    "#Opening files for reading the data\n",
    "fileObjectx = open('trainX.pickle','rb')\n",
    "fileObjecty = open('trainY.pickle','rb')\n",
    "fileObjectX = open('testX.pickle','rb')\n",
    "\n",
    "# load the object from the files\n",
    "trainX= pickle.load(fileObjectx)  \n",
    "print(plt.imshow(trainX[0],cmap=plt.cm.binary))\n",
    "plt.show()\n",
    "trainX.shape\n",
    "trainY= pickle.load(fileObjecty)\n",
    "trainY.shape\n",
    "testX_retrive= pickle.load(fileObjectX)\n",
    "\n",
    "testX_retrive.shape\n"
   ]
  },
  {
   "cell_type": "code",
   "execution_count": 2,
   "metadata": {},
   "outputs": [],
   "source": [
    "#Splitting the data into training data and testing data\n",
    "\n",
    "from sklearn.model_selection import train_test_split\n",
    "\n",
    "X_train,X_test,y_train,y_test = train_test_split(trainX,trainY,random_state=1)\n"
   ]
  },
  {
   "cell_type": "code",
   "execution_count": 3,
   "metadata": {},
   "outputs": [
    {
     "name": "stdout",
     "output_type": "stream",
     "text": [
      "(15000, 28, 28)\n",
      "(15000,)\n"
     ]
    }
   ],
   "source": [
    "print(X_test.shape)\n",
    "print(y_test.shape)"
   ]
  },
  {
   "cell_type": "code",
   "execution_count": 4,
   "metadata": {},
   "outputs": [],
   "source": [
    "#Parameters for training the model\n",
    "\n",
    "#number of training examples utilized in one iteration\n",
    "batch_size = 128\n",
    "\n",
    "#number of classes of the output\n",
    "num_classes = 10\n",
    "\n",
    "#number of times the model loop through data for training\n",
    "epochs = 30"
   ]
  },
  {
   "cell_type": "code",
   "execution_count": 5,
   "metadata": {},
   "outputs": [
    {
     "name": "stdout",
     "output_type": "stream",
     "text": [
      "X_train shape: (45000, 28, 28)\n",
      "45000 train samples\n",
      "15000 test samples\n"
     ]
    }
   ],
   "source": [
    "X_train = X_train.astype('float32')\n",
    "X_test = X_test.astype('float32')\n",
    "X_train /= 255\n",
    "X_test /= 255\n",
    "print('X_train shape:', X_train.shape)\n",
    "print(X_train.shape[0], 'train samples')\n",
    "print(X_test.shape[0], 'test samples')\n",
    "\n",
    "# convert class vectors to binary class matrices\n",
    "y_train = keras.utils.to_categorical(y_train, num_classes)\n",
    "y_test = keras.utils.to_categorical(y_test, num_classes)"
   ]
  },
  {
   "cell_type": "code",
   "execution_count": 6,
   "metadata": {},
   "outputs": [
    {
     "name": "stdout",
     "output_type": "stream",
     "text": [
      "(45000, 28, 28, 1) (45000, 10)\n"
     ]
    }
   ],
   "source": [
    "#reshaping the data for training\n",
    "from keras.utils import np_utils\n",
    "X_train=X_train.reshape((-1,28,28,1))\n",
    "X_test=X_test.reshape((-1,28,28,1))\n",
    "print(X_train.shape,y_train.shape)"
   ]
  },
  {
   "cell_type": "code",
   "execution_count": 7,
   "metadata": {},
   "outputs": [
    {
     "name": "stderr",
     "output_type": "stream",
     "text": [
      "WARNING: Logging before flag parsing goes to stderr.\n",
      "W0623 22:39:01.263428 12768 deprecation_wrapper.py:119] From E:\\anaconda\\envs\\assignment3\\lib\\site-packages\\keras\\backend\\tensorflow_backend.py:74: The name tf.get_default_graph is deprecated. Please use tf.compat.v1.get_default_graph instead.\n",
      "\n",
      "W0623 22:39:01.282717 12768 deprecation_wrapper.py:119] From E:\\anaconda\\envs\\assignment3\\lib\\site-packages\\keras\\backend\\tensorflow_backend.py:517: The name tf.placeholder is deprecated. Please use tf.compat.v1.placeholder instead.\n",
      "\n",
      "W0623 22:39:01.286367 12768 deprecation_wrapper.py:119] From E:\\anaconda\\envs\\assignment3\\lib\\site-packages\\keras\\backend\\tensorflow_backend.py:4138: The name tf.random_uniform is deprecated. Please use tf.random.uniform instead.\n",
      "\n",
      "W0623 22:39:01.323458 12768 deprecation_wrapper.py:119] From E:\\anaconda\\envs\\assignment3\\lib\\site-packages\\keras\\backend\\tensorflow_backend.py:133: The name tf.placeholder_with_default is deprecated. Please use tf.compat.v1.placeholder_with_default instead.\n",
      "\n",
      "W0623 22:39:01.340243 12768 deprecation.py:506] From E:\\anaconda\\envs\\assignment3\\lib\\site-packages\\keras\\backend\\tensorflow_backend.py:3445: calling dropout (from tensorflow.python.ops.nn_ops) with keep_prob is deprecated and will be removed in a future version.\n",
      "Instructions for updating:\n",
      "Please use `rate` instead of `keep_prob`. Rate should be set to `rate = 1 - keep_prob`.\n",
      "W0623 22:39:01.369146 12768 deprecation_wrapper.py:119] From E:\\anaconda\\envs\\assignment3\\lib\\site-packages\\keras\\backend\\tensorflow_backend.py:3976: The name tf.nn.max_pool is deprecated. Please use tf.nn.max_pool2d instead.\n",
      "\n",
      "W0623 22:39:01.547343 12768 deprecation_wrapper.py:119] From E:\\anaconda\\envs\\assignment3\\lib\\site-packages\\keras\\optimizers.py:790: The name tf.train.Optimizer is deprecated. Please use tf.compat.v1.train.Optimizer instead.\n",
      "\n",
      "W0623 22:39:01.566297 12768 deprecation_wrapper.py:119] From E:\\anaconda\\envs\\assignment3\\lib\\site-packages\\keras\\backend\\tensorflow_backend.py:3295: The name tf.log is deprecated. Please use tf.math.log instead.\n",
      "\n"
     ]
    },
    {
     "name": "stdout",
     "output_type": "stream",
     "text": [
      "_________________________________________________________________\n",
      "Layer (type)                 Output Shape              Param #   \n",
      "=================================================================\n",
      "conv2d_1 (Conv2D)            (None, 26, 26, 32)        320       \n",
      "_________________________________________________________________\n",
      "conv2d_2 (Conv2D)            (None, 24, 24, 64)        18496     \n",
      "_________________________________________________________________\n",
      "dropout_1 (Dropout)          (None, 24, 24, 64)        0         \n",
      "_________________________________________________________________\n",
      "max_pooling2d_1 (MaxPooling2 (None, 12, 12, 64)        0         \n",
      "_________________________________________________________________\n",
      "conv2d_3 (Conv2D)            (None, 8, 8, 32)          51232     \n",
      "_________________________________________________________________\n",
      "conv2d_4 (Conv2D)            (None, 4, 4, 8)           6408      \n",
      "_________________________________________________________________\n",
      "flatten_1 (Flatten)          (None, 128)               0         \n",
      "_________________________________________________________________\n",
      "dense_1 (Dense)              (None, 10)                1290      \n",
      "=================================================================\n",
      "Total params: 77,746\n",
      "Trainable params: 77,746\n",
      "Non-trainable params: 0\n",
      "_________________________________________________________________\n"
     ]
    }
   ],
   "source": [
    "#Using Convolutional Neural Networks model \n",
    "from keras.layers import Input,Convolution2D,MaxPooling2D,Flatten,Dense,Dropout\n",
    "model = Sequential()\n",
    "model.add(Convolution2D(32,(3,3),activation='relu',input_shape=(28,28,1)))\n",
    "model.add(Convolution2D(64,(3,3),activation='relu'))\n",
    "model.add(Dropout(0.25))\n",
    "model.add(MaxPooling2D(2,2))\n",
    "model.add(Convolution2D(32,(5,5),activation='relu'))\n",
    "model.add(Convolution2D(8,(5,5),activation='relu'))\n",
    "model.add(Flatten())\n",
    "model.add(Dense(10,activation='softmax'))\n",
    "model.summary()\n",
    "#Adadelta optimizer continues learning even when many updates have been done\n",
    "model.compile(loss=keras.losses.categorical_crossentropy,\n",
    "              optimizer=keras.optimizers.Adam(),\n",
    "              metrics=['accuracy'])"
   ]
  },
  {
   "cell_type": "code",
   "execution_count": 8,
   "metadata": {
    "scrolled": true
   },
   "outputs": [
    {
     "name": "stderr",
     "output_type": "stream",
     "text": [
      "W0623 22:39:06.998228 12768 deprecation.py:323] From E:\\anaconda\\envs\\assignment3\\lib\\site-packages\\tensorflow\\python\\ops\\math_grad.py:1250: add_dispatch_support.<locals>.wrapper (from tensorflow.python.ops.array_ops) is deprecated and will be removed in a future version.\n",
      "Instructions for updating:\n",
      "Use tf.where in 2.0, which has the same broadcast rule as np.where\n"
     ]
    },
    {
     "name": "stdout",
     "output_type": "stream",
     "text": [
      "Train on 36000 samples, validate on 9000 samples\n",
      "Epoch 1/20\n",
      "36000/36000 [==============================] - 133s 4ms/step - loss: 1.0030 - acc: 0.6395 - val_loss: 0.6343 - val_acc: 0.7693\n",
      "Epoch 2/20\n",
      "36000/36000 [==============================] - 132s 4ms/step - loss: 0.5418 - acc: 0.7978 - val_loss: 0.5054 - val_acc: 0.8246\n",
      "Epoch 3/20\n",
      "36000/36000 [==============================] - 129s 4ms/step - loss: 0.4453 - acc: 0.8392 - val_loss: 0.4597 - val_acc: 0.8379\n",
      "Epoch 4/20\n",
      "36000/36000 [==============================] - 132s 4ms/step - loss: 0.3896 - acc: 0.8597 - val_loss: 0.4619 - val_acc: 0.8350\n",
      "Epoch 5/20\n",
      "36000/36000 [==============================] - 133s 4ms/step - loss: 0.3530 - acc: 0.8732 - val_loss: 0.3833 - val_acc: 0.8723\n",
      "Epoch 6/20\n",
      "36000/36000 [==============================] - 129s 4ms/step - loss: 0.3247 - acc: 0.8846 - val_loss: 0.3410 - val_acc: 0.8871\n",
      "Epoch 7/20\n",
      "36000/36000 [==============================] - 127s 4ms/step - loss: 0.3053 - acc: 0.8895 - val_loss: 0.3682 - val_acc: 0.8716\n",
      "Epoch 8/20\n",
      "36000/36000 [==============================] - 131s 4ms/step - loss: 0.2866 - acc: 0.8967 - val_loss: 0.3157 - val_acc: 0.8889\n",
      "Epoch 9/20\n",
      "36000/36000 [==============================] - 130s 4ms/step - loss: 0.2723 - acc: 0.9018 - val_loss: 0.3166 - val_acc: 0.8899\n",
      "Epoch 10/20\n",
      "36000/36000 [==============================] - 134s 4ms/step - loss: 0.2618 - acc: 0.9057 - val_loss: 0.3046 - val_acc: 0.8951\n",
      "Epoch 11/20\n",
      "36000/36000 [==============================] - 123s 3ms/step - loss: 0.2480 - acc: 0.9098 - val_loss: 0.2869 - val_acc: 0.9010\n",
      "Epoch 12/20\n",
      "36000/36000 [==============================] - 128s 4ms/step - loss: 0.2382 - acc: 0.9141 - val_loss: 0.2892 - val_acc: 0.9004\n",
      "Epoch 13/20\n",
      "36000/36000 [==============================] - 132s 4ms/step - loss: 0.2282 - acc: 0.9187 - val_loss: 0.3308 - val_acc: 0.8799\n",
      "Epoch 14/20\n",
      "36000/36000 [==============================] - 124s 3ms/step - loss: 0.2211 - acc: 0.9197 - val_loss: 0.2836 - val_acc: 0.9023\n",
      "Epoch 15/20\n",
      "36000/36000 [==============================] - 124s 3ms/step - loss: 0.2098 - acc: 0.9243 - val_loss: 0.3200 - val_acc: 0.8850\n",
      "Epoch 16/20\n",
      "36000/36000 [==============================] - 130s 4ms/step - loss: 0.2044 - acc: 0.9266 - val_loss: 0.2824 - val_acc: 0.9022\n",
      "Epoch 17/20\n",
      "36000/36000 [==============================] - 129s 4ms/step - loss: 0.1948 - acc: 0.9288 - val_loss: 0.2638 - val_acc: 0.9079\n",
      "Epoch 18/20\n",
      "36000/36000 [==============================] - 130s 4ms/step - loss: 0.1899 - acc: 0.9322 - val_loss: 0.2833 - val_acc: 0.9029\n",
      "Epoch 19/20\n",
      "36000/36000 [==============================] - 126s 4ms/step - loss: 0.1819 - acc: 0.9337 - val_loss: 0.2652 - val_acc: 0.9057\n",
      "Epoch 20/20\n",
      "36000/36000 [==============================] - 125s 3ms/step - loss: 0.1760 - acc: 0.9369 - val_loss: 0.2791 - val_acc: 0.9049\n",
      "Test loss: 0.2717337194045385\n",
      "Test accuracy: 90.21999999682109 %\n"
     ]
    }
   ],
   "source": [
    "#set early stopping monitor so the model stops training when it won't improve anymore\n",
    "from keras.callbacks import EarlyStopping\n",
    "early_stopping_monitor = EarlyStopping(patience=5)\n",
    "#Training the model\n",
    "hist=model.fit(X_train,y_train,epochs=epochs,shuffle=True,batch_size=batch_size,verbose=1,validation_split=0.20,callbacks=[early_stopping_monitor])\n",
    "#loss and accuracy returnedfrom evaluate function\n",
    "loss,accuracy = model.evaluate(X_test, y_test, verbose=0)\n",
    "print('Test loss:', loss)\n",
    "print('Test accuracy:', accuracy*100,'%')"
   ]
  },
  {
   "cell_type": "code",
   "execution_count": 10,
   "metadata": {},
   "outputs": [
    {
     "data": {
      "image/png": "[encoded data removed]",
      "text/plain": [
       "<Figure size 432x288 with 1 Axes>"
      ]
     },
     "metadata": {
      "needs_background": "light"
     },
     "output_type": "display_data"
    },
    {
     "name": "stdout",
     "output_type": "stream",
     "text": [
      "Prediction for the splitted test data: [3 1 5 ... 7 6 7]\n",
      "Prediction for the testX: [9 2 1 ... 8 1 5]\n"
     ]
    }
   ],
   "source": [
    "#Plotting the loss ,acc,val_loss and val_acc\n",
    "plt.figure(0)\n",
    "plt.plot(hist.history['loss'],'g')\n",
    "plt.plot(hist.history['val_loss'],'b')\n",
    "plt.plot(hist.history['acc'],'r')\n",
    "plt.plot(hist.history['val_acc'],'black')\n",
    "\n",
    "plt.show()\n",
    "\n",
    "#Predicting for the test data\n",
    "pred=model.predict_classes(X_test)\n",
    "print(\"Prediction for the splitted test data:\",pred)\n",
    "\n",
    "#Saving the model \n",
    "model.save('apparels_image_reader.model')\n",
    "\n",
    "#loading the saved model for prediction \n",
    "new_model=keras.models.load_model('apparels_image_reader.model')\n",
    "\n",
    "#Prediction on the new data\n",
    "testX=testX_retrive.reshape((-1,28,28,1))\n",
    "prediction=new_model.predict_classes(testX)\n",
    "print(\"Prediction for the testX:\",prediction)\n",
    "\n"
   ]
  },
  {
   "cell_type": "code",
   "execution_count": null,
   "metadata": {},
   "outputs": [],
   "source": [
    "# Storing the predictions in a pickle file named result.\n",
    "filename = 'result.pickle'\n",
    "outfile = open(filename,'wb')\n",
    "pickle.dump(prediction,outfile)\n",
    "outfile.close()\n"
   ]
  },
  {
   "cell_type": "code",
   "execution_count": 11,
   "metadata": {},
   "outputs": [],
   "source": []
  },
  {
   "cell_type": "code",
   "execution_count": null,
   "metadata": {},
   "outputs": [],
   "source": []
  },
  {
   "cell_type": "code",
   "execution_count": null,
   "metadata": {},
   "outputs": [],
   "source": []
  }
 ],
 "metadata": {
  "kernelspec": {
   "display_name": "Python 3",
   "language": "python",
   "name": "python3"
  },
  "language_info": {
   "codemirror_mode": {
    "name": "ipython",
    "version": 3
   },
   "file_extension": ".py",
   "mimetype": "text/x-python",
   "name": "python",
   "nbconvert_exporter": "python",
   "pygments_lexer": "ipython3",
   "version": "3.6.8"
  }
 },
 "nbformat": 4,
 "nbformat_minor": 2
}

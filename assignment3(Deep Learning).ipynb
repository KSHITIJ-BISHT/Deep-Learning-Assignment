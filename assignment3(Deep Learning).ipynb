{
 "cells": [
  {
   "cell_type": "code",
   "execution_count": 1,
   "metadata": {},
   "outputs": [
    {
     "name": "stderr",
     "output_type": "stream",
     "text": [
      "Using TensorFlow backend.\n"
     ]
    },
    {
     "name": "stdout",
     "output_type": "stream",
     "text": [
      "AxesImage(80,52.8;496x369.6)\n"
     ]
    },
    {
     "data": {
      "text/plain": [
       "<Figure size 640x480 with 1 Axes>"
      ]
     },
     "metadata": {},
     "output_type": "display_data"
    },
    {
     "data": {
      "text/plain": [
       "(10000, 28, 28)"
      ]
     },
     "execution_count": 1,
     "metadata": {},
     "output_type": "execute_result"
    }
   ],
   "source": [
    "# Deep learning model for identifying images in Fashion MNIST data\n",
    "#There are 10 categories of items,each assigned a value 0-9\n",
    "import keras\n",
    "from keras.datasets import mnist\n",
    "from keras.models import Sequential\n",
    "from keras.layers import Dense, Dropout, Flatten, Activation\n",
    "from keras import backend as K\n",
    "import numpy as np\n",
    "import pickle\n",
    "import matplotlib.pyplot as plt\n",
    "#Opening files for reading the data\n",
    "fileObjectx = open('trainX.pickle','rb')\n",
    "fileObjecty = open('trainY.pickle','rb')\n",
    "fileObjectX = open('testX.pickle','rb')\n",
    "\n",
    "# load the object from the files\n",
    "trainX= pickle.load(fileObjectx)  \n",
    "print(plt.imshow(trainX[0],cmap=plt.cm.binary))\n",
    "plt.show()\n",
    "trainX.shape\n",
    "trainY= pickle.load(fileObjecty)\n",
    "trainY.shape\n",
    "testX_retrive= pickle.load(fileObjectX)\n",
    "\n",
    "testX_retrive.shape\n"
   ]
  },
  {
   "cell_type": "code",
   "execution_count": 2,
   "metadata": {},
   "outputs": [],
   "source": [
    "#Splitting the data into training data and testing data\n",
    "\n",
    "from sklearn.model_selection import train_test_split\n",
    "\n",
    "X_train,X_test,y_train,y_test = train_test_split(trainX,trainY,random_state=1)\n"
   ]
  },
  {
   "cell_type": "code",
   "execution_count": 3,
   "metadata": {},
   "outputs": [
    {
     "name": "stdout",
     "output_type": "stream",
     "text": [
      "(15000, 28, 28)\n",
      "(15000,)\n"
     ]
    }
   ],
   "source": [
    "print(X_test.shape)\n",
    "print(y_test.shape)"
   ]
  },
  {
   "cell_type": "code",
   "execution_count": 4,
   "metadata": {},
   "outputs": [],
   "source": [
    "#Parameters for training the model\n",
    "\n",
    "#number of training examples utilized in one iteration\n",
    "batch_size = 256\n",
    "\n",
    "#number of classes of the output\n",
    "num_classes = 10\n",
    "\n",
    "#number of times the model loop through data for training\n",
    "epochs = 30"
   ]
  },
  {
   "cell_type": "code",
   "execution_count": 5,
   "metadata": {},
   "outputs": [
    {
     "name": "stdout",
     "output_type": "stream",
     "text": [
      "X_train shape: (45000, 28, 28)\n",
      "45000 train samples\n",
      "15000 test samples\n"
     ]
    }
   ],
   "source": [
    "X_train = X_train.astype('float32')\n",
    "X_test = X_test.astype('float32')\n",
    "X_train /= 255\n",
    "X_test /= 255\n",
    "print('X_train shape:', X_train.shape)\n",
    "print(X_train.shape[0], 'train samples')\n",
    "print(X_test.shape[0], 'test samples')\n",
    "\n",
    "# convert class vectors to binary class matrices\n",
    "y_train = keras.utils.to_categorical(y_train, num_classes)\n",
    "y_test = keras.utils.to_categorical(y_test, num_classes)"
   ]
  },
  {
   "cell_type": "code",
   "execution_count": 6,
   "metadata": {},
   "outputs": [
    {
     "name": "stdout",
     "output_type": "stream",
     "text": [
      "(45000, 28, 28, 1) (45000, 10)\n"
     ]
    }
   ],
   "source": [
    "#reshaping the data for training\n",
    "from keras.utils import np_utils\n",
    "X_train=X_train.reshape((-1,28,28,1))\n",
    "X_test=X_test.reshape((-1,28,28,1))\n",
    "print(X_train.shape,y_train.shape)"
   ]
  },
  {
   "cell_type": "code",
   "execution_count": 8,
   "metadata": {},
   "outputs": [
    {
     "name": "stdout",
     "output_type": "stream",
     "text": [
      "_________________________________________________________________\n",
      "Layer (type)                 Output Shape              Param #   \n",
      "=================================================================\n",
      "conv2d_5 (Conv2D)            (None, 26, 26, 32)        320       \n",
      "_________________________________________________________________\n",
      "conv2d_6 (Conv2D)            (None, 24, 24, 64)        18496     \n",
      "_________________________________________________________________\n",
      "dropout_2 (Dropout)          (None, 24, 24, 64)        0         \n",
      "_________________________________________________________________\n",
      "max_pooling2d_2 (MaxPooling2 (None, 12, 12, 64)        0         \n",
      "_________________________________________________________________\n",
      "conv2d_7 (Conv2D)            (None, 8, 8, 32)          51232     \n",
      "_________________________________________________________________\n",
      "conv2d_8 (Conv2D)            (None, 4, 4, 8)           6408      \n",
      "_________________________________________________________________\n",
      "flatten_2 (Flatten)          (None, 128)               0         \n",
      "_________________________________________________________________\n",
      "dense_2 (Dense)              (None, 10)                1290      \n",
      "=================================================================\n",
      "Total params: 77,746\n",
      "Trainable params: 77,746\n",
      "Non-trainable params: 0\n",
      "_________________________________________________________________\n"
     ]
    }
   ],
   "source": [
    "#Using Convolutional Neural Networks model \n",
    "from keras.layers import Input,Convolution2D,MaxPooling2D,Flatten,Dense,Dropout\n",
    "model = Sequential()\n",
    "model.add(Convolution2D(32,(3,3),activation='relu',input_shape=(28,28,1)))\n",
    "model.add(Convolution2D(64,(3,3),activation='relu'))\n",
    "\n",
    "#Dropout for stopping overfitting\n",
    "model.add(Dropout(0.25))\n",
    "model.add(MaxPooling2D(2,2))\n",
    "model.add(Convolution2D(32,(5,5),activation='relu'))\n",
    "model.add(Convolution2D(8,(5,5),activation='relu'))\n",
    "model.add(Flatten())\n",
    "model.add(Dense(10,activation='softmax'))\n",
    "model.summary()\n",
    "#Using Adam optimizer.\n",
    "model.compile(loss=keras.losses.categorical_crossentropy,\n",
    "              optimizer=keras.optimizers.Adam(),\n",
    "              metrics=['accuracy'])"
   ]
  },
  {
   "cell_type": "code",
   "execution_count": 9,
   "metadata": {
    "scrolled": true
   },
   "outputs": [
    {
     "name": "stderr",
     "output_type": "stream",
     "text": [
      "W0624 00:23:08.279364  9272 deprecation.py:323] From E:\\anaconda\\envs\\assignment3\\lib\\site-packages\\tensorflow\\python\\ops\\math_grad.py:1250: add_dispatch_support.<locals>.wrapper (from tensorflow.python.ops.array_ops) is deprecated and will be removed in a future version.\n",
      "Instructions for updating:\n",
      "Use tf.where in 2.0, which has the same broadcast rule as np.where\n"
     ]
    },
    {
     "name": "stdout",
     "output_type": "stream",
     "text": [
      "Train on 36000 samples, validate on 9000 samples\n",
      "Epoch 1/30\n",
      "36000/36000 [==============================] - 122s 3ms/step - loss: 0.8627 - acc: 0.6910 - val_loss: 0.6470 - val_acc: 0.7696\n",
      "Epoch 2/30\n",
      "36000/36000 [==============================] - 96s 3ms/step - loss: 0.4852 - acc: 0.8264 - val_loss: 0.4883 - val_acc: 0.8293\n",
      "Epoch 3/30\n",
      "36000/36000 [==============================] - 101s 3ms/step - loss: 0.4067 - acc: 0.8554 - val_loss: 0.4100 - val_acc: 0.8587\n",
      "Epoch 4/30\n",
      "36000/36000 [==============================] - 103s 3ms/step - loss: 0.3663 - acc: 0.8704 - val_loss: 0.3784 - val_acc: 0.8734\n",
      "Epoch 5/30\n",
      "36000/36000 [==============================] - 105s 3ms/step - loss: 0.3415 - acc: 0.8788 - val_loss: 0.3611 - val_acc: 0.8772\n",
      "Epoch 6/30\n",
      "36000/36000 [==============================] - 103s 3ms/step - loss: 0.3192 - acc: 0.8844 - val_loss: 0.3297 - val_acc: 0.8883\n",
      "Epoch 7/30\n",
      "36000/36000 [==============================] - 96s 3ms/step - loss: 0.3021 - acc: 0.8918 - val_loss: 0.3359 - val_acc: 0.8846\n",
      "Epoch 8/30\n",
      "36000/36000 [==============================] - 93s 3ms/step - loss: 0.2835 - acc: 0.8984 - val_loss: 0.3285 - val_acc: 0.8860\n",
      "Epoch 9/30\n",
      "36000/36000 [==============================] - 96s 3ms/step - loss: 0.2755 - acc: 0.9008 - val_loss: 0.3277 - val_acc: 0.8900\n",
      "Epoch 10/30\n",
      "36000/36000 [==============================] - 94s 3ms/step - loss: 0.2619 - acc: 0.9067 - val_loss: 0.3010 - val_acc: 0.8958\n",
      "Epoch 11/30\n",
      "36000/36000 [==============================] - 95s 3ms/step - loss: 0.2545 - acc: 0.9075 - val_loss: 0.2895 - val_acc: 0.9016\n",
      "Epoch 12/30\n",
      "36000/36000 [==============================] - 94s 3ms/step - loss: 0.2442 - acc: 0.9121 - val_loss: 0.2818 - val_acc: 0.9026\n",
      "Epoch 13/30\n",
      "36000/36000 [==============================] - 93s 3ms/step - loss: 0.2354 - acc: 0.9157 - val_loss: 0.2866 - val_acc: 0.9027\n",
      "Epoch 14/30\n",
      "36000/36000 [==============================] - 97s 3ms/step - loss: 0.2265 - acc: 0.9184 - val_loss: 0.3065 - val_acc: 0.8932\n",
      "Epoch 15/30\n",
      "36000/36000 [==============================] - 101s 3ms/step - loss: 0.2189 - acc: 0.9202 - val_loss: 0.2908 - val_acc: 0.8959\n",
      "Epoch 16/30\n",
      "36000/36000 [==============================] - 101s 3ms/step - loss: 0.2107 - acc: 0.9224 - val_loss: 0.2759 - val_acc: 0.9052\n",
      "Epoch 17/30\n",
      "36000/36000 [==============================] - 105s 3ms/step - loss: 0.2056 - acc: 0.9254 - val_loss: 0.2752 - val_acc: 0.9031\n",
      "Epoch 18/30\n",
      "36000/36000 [==============================] - 102s 3ms/step - loss: 0.2000 - acc: 0.9275 - val_loss: 0.2785 - val_acc: 0.9032\n",
      "Epoch 19/30\n",
      "36000/36000 [==============================] - 101s 3ms/step - loss: 0.1948 - acc: 0.9292 - val_loss: 0.2651 - val_acc: 0.9087\n",
      "Epoch 20/30\n",
      "36000/36000 [==============================] - 101s 3ms/step - loss: 0.1831 - acc: 0.9336 - val_loss: 0.2714 - val_acc: 0.9058\n",
      "Epoch 21/30\n",
      "36000/36000 [==============================] - 104s 3ms/step - loss: 0.1767 - acc: 0.9361 - val_loss: 0.2567 - val_acc: 0.9120\n",
      "Epoch 22/30\n",
      "36000/36000 [==============================] - 100s 3ms/step - loss: 0.1755 - acc: 0.9365 - val_loss: 0.2711 - val_acc: 0.9070\n",
      "Epoch 23/30\n",
      "36000/36000 [==============================] - 101s 3ms/step - loss: 0.1673 - acc: 0.9390 - val_loss: 0.2675 - val_acc: 0.9101\n",
      "Epoch 24/30\n",
      "36000/36000 [==============================] - 97s 3ms/step - loss: 0.1699 - acc: 0.9382 - val_loss: 0.2610 - val_acc: 0.9096\n",
      "Epoch 25/30\n",
      "36000/36000 [==============================] - 94s 3ms/step - loss: 0.1610 - acc: 0.9414 - val_loss: 0.2686 - val_acc: 0.9091\n",
      "Epoch 26/30\n",
      "36000/36000 [==============================] - 96s 3ms/step - loss: 0.1520 - acc: 0.9452 - val_loss: 0.2598 - val_acc: 0.9138\n",
      "Test loss: 0.25992962478001913\n",
      "Test accuracy: 91.08000000317892 %\n"
     ]
    }
   ],
   "source": [
    "#set early stopping monitor so the model stops training when it won't improve anymore\n",
    "from keras.callbacks import EarlyStopping\n",
    "early_stopping_monitor = EarlyStopping(patience=5)\n",
    "#Training the model\n",
    "hist=model.fit(X_train,y_train,epochs=epochs,shuffle=True,batch_size=batch_size,verbose=1,validation_split=0.20,callbacks=[early_stopping_monitor])\n",
    "#loss and accuracy returnedfrom evaluate function\n",
    "loss,accuracy = model.evaluate(X_test, y_test, verbose=0)\n",
    "print('Test loss:', loss)\n",
    "print('Test accuracy:', accuracy*100,'%')"
   ]
  },
  {
   "cell_type": "code",
   "execution_count": 9,
   "metadata": {},
   "outputs": [
    {
     "data": {
      "image/png": "[encoded data removed]",
      "text/plain": [
       "<Figure size 432x288 with 1 Axes>"
      ]
     },
     "metadata": {
      "needs_background": "light"
     },
     "output_type": "display_data"
    },
    {
     "name": "stdout",
     "output_type": "stream",
     "text": [
      "Prediction for the splitted test data: [3 1 5 ... 7 6 7]\n",
      "Prediction for the testX: [9 2 1 ... 8 1 5]\n"
     ]
    }
   ],
   "source": [
    "#Plotting the loss ,acc,val_loss and val_acc\n",
    "plt.figure(0)\n",
    "plt.plot(hist.history['loss'],'g')\n",
    "plt.plot(hist.history['val_loss'],'b')\n",
    "plt.plot(hist.history['acc'],'r')\n",
    "plt.plot(hist.history['val_acc'],'black')\n",
    "\n",
    "plt.show()\n",
    "\n",
    "#Predicting for the test data\n",
    "pred=model.predict_classes(X_test)\n",
    "print(\"Prediction for the splitted test data:\",pred)\n",
    "\n",
    "#Saving the model \n",
    "model.save('apparels_image_reader.model')\n",
    "\n",
    "#loading the saved model for prediction \n",
    "new_model=keras.models.load_model('apparels_image_reader.model')\n",
    "\n",
    "#Prediction on the new data\n",
    "testX=testX_retrive.reshape((-1,28,28,1))\n",
    "prediction=new_model.predict_classes(testX)\n",
    "print(\"Prediction for the testX:\",prediction)\n",
    "\n"
   ]
  },
  {
   "cell_type": "code",
   "execution_count": 10,
   "metadata": {},
   "outputs": [],
   "source": [
    "# Storing the predictions in a pickle file named result.\n",
    "filename = 'result.pickle'\n",
    "outfile = open(filename,'wb')\n",
    "pickle.dump(prediction,outfile)\n",
    "outfile.close()\n"
   ]
  },
  {
   "cell_type": "code",
   "execution_count": 11,
   "metadata": {},
   "outputs": [],
   "source": []
  },
  {
   "cell_type": "code",
   "execution_count": null,
   "metadata": {},
   "outputs": [],
   "source": []
  },
  {
   "cell_type": "code",
   "execution_count": null,
   "metadata": {},
   "outputs": [],
   "source": []
  }
 ],
 "metadata": {
  "kernelspec": {
   "display_name": "Python 3",
   "language": "python",
   "name": "python3"
  },
  "language_info": {
   "codemirror_mode": {
    "name": "ipython",
    "version": 3
   },
   "file_extension": ".py",
   "mimetype": "text/x-python",
   "name": "python",
   "nbconvert_exporter": "python",
   "pygments_lexer": "ipython3",
   "version": "3.6.8"
  }
 },
 "nbformat": 4,
 "nbformat_minor": 2
}

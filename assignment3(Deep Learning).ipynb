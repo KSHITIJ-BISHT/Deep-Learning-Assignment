{
 "cells": [
  {
   "cell_type": "code",
   "execution_count": 4,
   "metadata": {},
   "outputs": [
    {
     "name": "stdout",
     "output_type": "stream",
     "text": [
      "AxesImage(54,36;334.8x217.44)\n"
     ]
    },
    {
     "data": {
      "image/png": "[encoded data removed]",
      "text/plain": [
       "<Figure size 432x288 with 1 Axes>"
      ]
     },
     "metadata": {
      "needs_background": "light"
     },
     "output_type": "display_data"
    },
    {
     "data": {
      "text/plain": [
       "(10000, 28, 28)"
      ]
     },
     "execution_count": 4,
     "metadata": {},
     "output_type": "execute_result"
    }
   ],
   "source": [
    "#Deep learning model for identifying images in Fashion MNIST data\n",
    "#There are 10 categories of items,each assigned a value 0-9\n",
    "import keras\n",
    "from keras.datasets import mnist\n",
    "from keras.models import Sequential\n",
    "from keras.layers import Dense, Dropout, Flatten, Activation\n",
    "from keras import backend as K\n",
    "import numpy as np\n",
    "import pickle\n",
    "import matplotlib.pyplot as plt\n",
    "#Opening files for reading the data\n",
    "fileObjectx = open('trainX.pickle','rb')\n",
    "fileObjecty = open('trainY.pickle','rb')\n",
    "fileObjectX = open('testX.pickle','rb')\n",
    "\n",
    "# load the object from the files\n",
    "trainX= pickle.load(fileObjectx)  \n",
    "print(plt.imshow(trainX[0],cmap=plt.cm.binary))\n",
    "plt.show()\n",
    "trainX.shape\n",
    "trainY= pickle.load(fileObjecty)\n",
    "trainY.shape\n",
    "testX_retrive= pickle.load(fileObjectX)\n",
    "\n",
    "testX_retrive.shape\n"
   ]
  },
  {
   "cell_type": "code",
   "execution_count": 5,
   "metadata": {},
   "outputs": [],
   "source": [
    "#Splitting the data into training data and testing data\n",
    "\n",
    "from sklearn.model_selection import train_test_split\n",
    "\n",
    "X_train,X_test,y_train,y_test = train_test_split(trainX,trainY,random_state=1)\n"
   ]
  },
  {
   "cell_type": "code",
   "execution_count": 6,
   "metadata": {},
   "outputs": [
    {
     "name": "stdout",
     "output_type": "stream",
     "text": [
      "(15000, 28, 28)\n",
      "(15000,)\n"
     ]
    }
   ],
   "source": [
    "print(X_test.shape)\n",
    "print(y_test.shape)"
   ]
  },
  {
   "cell_type": "code",
   "execution_count": 7,
   "metadata": {},
   "outputs": [],
   "source": [
    "#Parameters for training the model\n",
    "\n",
    "#number of training examples utilized in one iteration\n",
    "batch_size = 256\n",
    "\n",
    "#number of classes of the output\n",
    "num_classes = 10\n",
    "\n",
    "#number of times the model loop through data for training\n",
    "epochs = 100"
   ]
  },
  {
   "cell_type": "code",
   "execution_count": 8,
   "metadata": {},
   "outputs": [
    {
     "name": "stdout",
     "output_type": "stream",
     "text": [
      "X_train shape: (45000, 28, 28)\n",
      "45000 train samples\n",
      "15000 test samples\n"
     ]
    }
   ],
   "source": [
    "X_train = X_train.astype('float32')\n",
    "X_test = X_test.astype('float32')\n",
    "X_train /= 255\n",
    "X_test /= 255\n",
    "print('X_train shape:', X_train.shape)\n",
    "print(X_train.shape[0], 'train samples')\n",
    "print(X_test.shape[0], 'test samples')\n",
    "\n",
    "# convert class vectors to binary class matrices\n",
    "y_train = keras.utils.to_categorical(y_train, num_classes)\n",
    "y_test = keras.utils.to_categorical(y_test, num_classes)"
   ]
  },
  {
   "cell_type": "code",
   "execution_count": 9,
   "metadata": {},
   "outputs": [
    {
     "data": {
      "text/plain": [
       "(45000, 784)"
      ]
     },
     "execution_count": 9,
     "metadata": {},
     "output_type": "execute_result"
    }
   ],
   "source": [
    "X_train = np.reshape(X_train, (45000, 784))\n",
    "X_test = np.reshape(X_test, (15000, 784))\n",
    "\n",
    "#data for which prediction is to be made\n",
    "testX=np.reshape(testX_retrive,(10000,784))\n",
    "\n",
    "X_train.shape"
   ]
  },
  {
   "cell_type": "code",
   "execution_count": 10,
   "metadata": {},
   "outputs": [
    {
     "name": "stderr",
     "output_type": "stream",
     "text": [
      "WARNING: Logging before flag parsing goes to stderr.\n",
      "W0623 19:24:15.653433  8336 deprecation_wrapper.py:119] From E:\\anaconda\\envs\\assignment3\\lib\\site-packages\\keras\\backend\\tensorflow_backend.py:74: The name tf.get_default_graph is deprecated. Please use tf.compat.v1.get_default_graph instead.\n",
      "\n",
      "W0623 19:24:15.671428  8336 deprecation_wrapper.py:119] From E:\\anaconda\\envs\\assignment3\\lib\\site-packages\\keras\\backend\\tensorflow_backend.py:517: The name tf.placeholder is deprecated. Please use tf.compat.v1.placeholder instead.\n",
      "\n",
      "W0623 19:24:15.674379  8336 deprecation_wrapper.py:119] From E:\\anaconda\\envs\\assignment3\\lib\\site-packages\\keras\\backend\\tensorflow_backend.py:4138: The name tf.random_uniform is deprecated. Please use tf.random.uniform instead.\n",
      "\n",
      "W0623 19:24:15.694324  8336 deprecation_wrapper.py:119] From E:\\anaconda\\envs\\assignment3\\lib\\site-packages\\keras\\backend\\tensorflow_backend.py:133: The name tf.placeholder_with_default is deprecated. Please use tf.compat.v1.placeholder_with_default instead.\n",
      "\n",
      "W0623 19:24:15.703300  8336 deprecation.py:506] From E:\\anaconda\\envs\\assignment3\\lib\\site-packages\\keras\\backend\\tensorflow_backend.py:3445: calling dropout (from tensorflow.python.ops.nn_ops) with keep_prob is deprecated and will be removed in a future version.\n",
      "Instructions for updating:\n",
      "Please use `rate` instead of `keep_prob`. Rate should be set to `rate = 1 - keep_prob`.\n",
      "W0623 19:24:15.803034  8336 deprecation_wrapper.py:119] From E:\\anaconda\\envs\\assignment3\\lib\\site-packages\\keras\\optimizers.py:790: The name tf.train.Optimizer is deprecated. Please use tf.compat.v1.train.Optimizer instead.\n",
      "\n",
      "W0623 19:24:15.814006  8336 deprecation_wrapper.py:119] From E:\\anaconda\\envs\\assignment3\\lib\\site-packages\\keras\\backend\\tensorflow_backend.py:3295: The name tf.log is deprecated. Please use tf.math.log instead.\n",
      "\n"
     ]
    },
    {
     "name": "stdout",
     "output_type": "stream",
     "text": [
      "_________________________________________________________________\n",
      "Layer (type)                 Output Shape              Param #   \n",
      "=================================================================\n",
      "dense_1 (Dense)              (None, 500)               392500    \n",
      "_________________________________________________________________\n",
      "activation_1 (Activation)    (None, 500)               0         \n",
      "_________________________________________________________________\n",
      "dropout_1 (Dropout)          (None, 500)               0         \n",
      "_________________________________________________________________\n",
      "dense_2 (Dense)              (None, 300)               150300    \n",
      "_________________________________________________________________\n",
      "activation_2 (Activation)    (None, 300)               0         \n",
      "_________________________________________________________________\n",
      "dropout_2 (Dropout)          (None, 300)               0         \n",
      "_________________________________________________________________\n",
      "dense_3 (Dense)              (None, 10)                3010      \n",
      "_________________________________________________________________\n",
      "activation_3 (Activation)    (None, 10)                0         \n",
      "=================================================================\n",
      "Total params: 545,810\n",
      "Trainable params: 545,810\n",
      "Non-trainable params: 0\n",
      "_________________________________________________________________\n"
     ]
    }
   ],
   "source": [
    "#Using Sequential model\n",
    "model = Sequential()\n",
    "model.add(Dense(500, input_dim=784), )\n",
    "# Activation function-Rectified Linear Unit,returns 0 if it founds a negative value and the value x for positive value \n",
    "model.add(Activation('relu'))\n",
    "\n",
    "#Using Dropout to stop overfitting\n",
    "model.add(Dropout(0.4))\n",
    "model.add(Dense(300))\n",
    "model.add(Activation('relu'))\n",
    "\n",
    "#Using Dropout to stop overfitting\n",
    "model.add(Dropout(0.4))\n",
    "model.add(Dense(10))\n",
    "model.add(Activation('softmax'))\n",
    "model.summary()\n",
    "\n",
    "#Adadelta optimizer continues learning even when many updates have been done\n",
    "model.compile(loss=keras.losses.categorical_crossentropy,\n",
    "              optimizer=keras.optimizers.Adadelta(),\n",
    "              metrics=['accuracy'])"
   ]
  },
  {
   "cell_type": "code",
   "execution_count": 11,
   "metadata": {
    "scrolled": true
   },
   "outputs": [
    {
     "name": "stderr",
     "output_type": "stream",
     "text": [
      "W0623 19:24:19.801850  8336 deprecation.py:323] From E:\\anaconda\\envs\\assignment3\\lib\\site-packages\\tensorflow\\python\\ops\\math_grad.py:1250: add_dispatch_support.<locals>.wrapper (from tensorflow.python.ops.array_ops) is deprecated and will be removed in a future version.\n",
      "Instructions for updating:\n",
      "Use tf.where in 2.0, which has the same broadcast rule as np.where\n"
     ]
    },
    {
     "name": "stdout",
     "output_type": "stream",
     "text": [
      "Train on 45000 samples, validate on 15000 samples\n",
      "Epoch 1/100\n",
      "45000/45000 [==============================] - 5s 119us/step - loss: 0.7503 - acc: 0.7299 - val_loss: 0.5690 - val_acc: 0.7650\n",
      "Epoch 2/100\n",
      "45000/45000 [==============================] - 6s 122us/step - loss: 0.5069 - acc: 0.8170 - val_loss: 0.4085 - val_acc: 0.8489\n",
      "Epoch 3/100\n",
      "45000/45000 [==============================] - 5s 108us/step - loss: 0.4484 - acc: 0.8362 - val_loss: 0.3832 - val_acc: 0.8613\n",
      "Epoch 4/100\n",
      "45000/45000 [==============================] - 5s 108us/step - loss: 0.4181 - acc: 0.8476 - val_loss: 0.3839 - val_acc: 0.8570\n",
      "Epoch 5/100\n",
      "45000/45000 [==============================] - 5s 103us/step - loss: 0.3923 - acc: 0.8551 - val_loss: 0.3827 - val_acc: 0.8581\n",
      "Epoch 6/100\n",
      "45000/45000 [==============================] - 5s 103us/step - loss: 0.3774 - acc: 0.8607 - val_loss: 0.3670 - val_acc: 0.8663\n",
      "Epoch 7/100\n",
      "45000/45000 [==============================] - 5s 104us/step - loss: 0.3608 - acc: 0.8670 - val_loss: 0.3665 - val_acc: 0.8626\n",
      "Epoch 8/100\n",
      "45000/45000 [==============================] - 5s 108us/step - loss: 0.3498 - acc: 0.8706 - val_loss: 0.3662 - val_acc: 0.8614\n",
      "Epoch 9/100\n",
      "45000/45000 [==============================] - 5s 105us/step - loss: 0.3415 - acc: 0.8745 - val_loss: 0.3271 - val_acc: 0.8788\n",
      "Epoch 10/100\n",
      "45000/45000 [==============================] - 5s 104us/step - loss: 0.3326 - acc: 0.8764 - val_loss: 0.3223 - val_acc: 0.8813\n",
      "Epoch 11/100\n",
      "45000/45000 [==============================] - 5s 109us/step - loss: 0.3233 - acc: 0.8795 - val_loss: 0.3465 - val_acc: 0.8726\n",
      "Epoch 12/100\n",
      "45000/45000 [==============================] - 5s 111us/step - loss: 0.3162 - acc: 0.8828 - val_loss: 0.3358 - val_acc: 0.8784\n",
      "Epoch 13/100\n",
      "45000/45000 [==============================] - 5s 108us/step - loss: 0.3086 - acc: 0.8858 - val_loss: 0.3194 - val_acc: 0.8832\n",
      "Epoch 14/100\n",
      "45000/45000 [==============================] - 5s 115us/step - loss: 0.3032 - acc: 0.8864 - val_loss: 0.3047 - val_acc: 0.8902\n",
      "Epoch 15/100\n",
      "45000/45000 [==============================] - 5s 104us/step - loss: 0.2949 - acc: 0.8894 - val_loss: 0.3094 - val_acc: 0.8887\n",
      "Epoch 16/100\n",
      "45000/45000 [==============================] - 5s 105us/step - loss: 0.2919 - acc: 0.8915 - val_loss: 0.3176 - val_acc: 0.8845\n",
      "Epoch 17/100\n",
      "45000/45000 [==============================] - 5s 106us/step - loss: 0.2857 - acc: 0.8939 - val_loss: 0.2987 - val_acc: 0.8906\n",
      "Epoch 18/100\n",
      "45000/45000 [==============================] - 5s 107us/step - loss: 0.2810 - acc: 0.8950 - val_loss: 0.3084 - val_acc: 0.8905\n",
      "Epoch 19/100\n",
      "45000/45000 [==============================] - 5s 103us/step - loss: 0.2783 - acc: 0.8973 - val_loss: 0.3052 - val_acc: 0.8889\n",
      "Epoch 20/100\n",
      "45000/45000 [==============================] - 5s 104us/step - loss: 0.2727 - acc: 0.8978 - val_loss: 0.2970 - val_acc: 0.8915\n",
      "Epoch 21/100\n",
      "45000/45000 [==============================] - 5s 110us/step - loss: 0.2679 - acc: 0.8998 - val_loss: 0.3123 - val_acc: 0.8869\n",
      "Epoch 22/100\n",
      "45000/45000 [==============================] - 5s 103us/step - loss: 0.2663 - acc: 0.8997 - val_loss: 0.3046 - val_acc: 0.8898\n",
      "Epoch 23/100\n",
      "45000/45000 [==============================] - 5s 107us/step - loss: 0.2593 - acc: 0.9017 - val_loss: 0.3113 - val_acc: 0.8889\n",
      "Epoch 24/100\n",
      "45000/45000 [==============================] - 5s 109us/step - loss: 0.2600 - acc: 0.9010 - val_loss: 0.2973 - val_acc: 0.8929\n",
      "Epoch 25/100\n",
      "45000/45000 [==============================] - 5s 105us/step - loss: 0.2530 - acc: 0.9035 - val_loss: 0.2908 - val_acc: 0.8929\n",
      "Epoch 26/100\n",
      "45000/45000 [==============================] - 5s 105us/step - loss: 0.2522 - acc: 0.9047 - val_loss: 0.2925 - val_acc: 0.8940\n",
      "Epoch 27/100\n",
      "45000/45000 [==============================] - 5s 104us/step - loss: 0.2461 - acc: 0.9073 - val_loss: 0.2913 - val_acc: 0.8929\n",
      "Epoch 28/100\n",
      "45000/45000 [==============================] - 5s 109us/step - loss: 0.2448 - acc: 0.9078 - val_loss: 0.2948 - val_acc: 0.8952\n",
      "Epoch 29/100\n",
      "45000/45000 [==============================] - 5s 107us/step - loss: 0.2423 - acc: 0.9085 - val_loss: 0.3043 - val_acc: 0.8949\n",
      "Epoch 30/100\n",
      "45000/45000 [==============================] - 5s 105us/step - loss: 0.2371 - acc: 0.9088 - val_loss: 0.3343 - val_acc: 0.8815\n",
      "Test loss: 0.33427850915590923\n",
      "Test accuracy: 88.14666666348775 %\n"
     ]
    }
   ],
   "source": [
    "#set early stopping monitor so the model stops training when it won't improve anymore\n",
    "from keras.callbacks import EarlyStopping\n",
    "early_stopping_monitor = EarlyStopping(patience=5)\n",
    "\n",
    "#Train model\n",
    "hist=model.fit(X_train, y_train,\n",
    "          batch_size=batch_size,\n",
    "          epochs=epochs,\n",
    "          verbose=1,\n",
    "          validation_data=(X_test, y_test),callbacks=[early_stopping_monitor])\n",
    "\n",
    "#loss and accuracy returnedfrom evaluate function\n",
    "loss,accuracy = model.evaluate(X_test, y_test, verbose=0)\n",
    "print('Test loss:', loss)\n",
    "print('Test accuracy:', accuracy*100,'%')"
   ]
  },
  {
   "cell_type": "code",
   "execution_count": 16,
   "metadata": {},
   "outputs": [
    {
     "data": {
      "image/png": "[encoded data removed]",
      "text/plain": [
       "<Figure size 432x288 with 1 Axes>"
      ]
     },
     "metadata": {
      "needs_background": "light"
     },
     "output_type": "display_data"
    },
    {
     "name": "stdout",
     "output_type": "stream",
     "text": [
      "Prediction for the splitted test data: [3 1 5 ... 7 6 7]\n",
      "Prediction for the testX: [9 2 1 ... 8 1 5]\n"
     ]
    }
   ],
   "source": [
    "#Plotting the loss ,acc,val_loss and val_acc\n",
    "plt.figure(0)\n",
    "plt.plot(hist.history['loss'],'g')\n",
    "plt.plot(hist.history['val_loss'],'b')\n",
    "plt.plot(hist.history['acc'],'r')\n",
    "plt.plot(hist.history['val_acc'],'black')\n",
    "\n",
    "plt.show()\n",
    "\n",
    "#Predicting for the test data\n",
    "pred=model.predict_classes(X_test)\n",
    "#test_result=np.argmax(pred[0])\n",
    "print(\"Prediction for the splitted test data:\",pred)\n",
    "\n",
    "#Saving the model \n",
    "model.save('apparels_image_reader.model')\n",
    "\n",
    "#loading the saved model for prediction \n",
    "new_model=keras.models.load_model('apparels_image_reader.model')\n",
    "\n",
    "#Prediction on the new data\n",
    "prediction=new_model.predict_classes(testX)\n",
    "print(\"Prediction for the testX:\",prediction)\n",
    "\n"
   ]
  },
  {
   "cell_type": "code",
   "execution_count": 17,
   "metadata": {},
   "outputs": [],
   "source": [
    "#Storing the predictions in a pickle file named result.\n",
    "filename = 'result.pickle'\n",
    "outfile = open(filename,'wb')\n",
    "pickle.dump(prediction,outfile)\n",
    "outfile.close()\n",
    "\n",
    "res = open('result.pickle','rb')\n",
    "trainX= pickle.load(fileObjectx)\n"
   ]
  },
  {
   "cell_type": "code",
   "execution_count": null,
   "metadata": {},
   "outputs": [],
   "source": []
  },
  {
   "cell_type": "code",
   "execution_count": null,
   "metadata": {},
   "outputs": [],
   "source": []
  },
  {
   "cell_type": "code",
   "execution_count": null,
   "metadata": {},
   "outputs": [],
   "source": []
  }
 ],
 "metadata": {
  "kernelspec": {
   "display_name": "Python 3",
   "language": "python",
   "name": "python3"
  },
  "language_info": {
   "codemirror_mode": {
    "name": "ipython",
    "version": 3
   },
   "file_extension": ".py",
   "mimetype": "text/x-python",
   "name": "python",
   "nbconvert_exporter": "python",
   "pygments_lexer": "ipython3",
   "version": "3.6.8"
  }
 },
 "nbformat": 4,
 "nbformat_minor": 2
}
